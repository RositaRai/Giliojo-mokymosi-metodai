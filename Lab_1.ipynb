{
  "cells": [
    {
      "cell_type": "markdown",
      "source": [
        "Rosita Raišuotytė vgg16 [\"Bee\", \"Castle\", \"Banana\"]"
      ],
      "metadata": {
        "id": "Qte4IXGMdXWE"
      }
    },
    {
      "cell_type": "markdown",
      "metadata": {
        "id": "2sSvZ-seupsQ"
      },
      "source": [
        "# Nuotraukų įsikėlimas\n"
      ]
    },
    {
      "cell_type": "code",
      "execution_count": null,
      "metadata": {
        "id": "Ze4XIeneukY_"
      },
      "outputs": [],
      "source": [
        "pip install openimages"
      ]
    },
    {
      "cell_type": "code",
      "execution_count": null,
      "metadata": {
        "id": "DL825ANIuz6v"
      },
      "outputs": [],
      "source": [
        "import os\n",
        "from openimages.download import download_dataset"
      ]
    },
    {
      "cell_type": "code",
      "execution_count": null,
      "metadata": {
        "id": "3a2P8Fqqu6QY"
      },
      "outputs": [],
      "source": [
        "data_dir = \"OpenImages\"\n",
        "number_for_samples = 372\n",
        "classes = [\"Bee\", \"Castle\", \"Banana\"]"
      ]
    },
    {
      "cell_type": "code",
      "execution_count": null,
      "metadata": {
        "id": "snmGlbBQu8oy"
      },
      "outputs": [],
      "source": [
        "if not os.path.exists(data_dir):\n",
        "    os.makedirs(data_dir)"
      ]
    },
    {
      "cell_type": "code",
      "execution_count": null,
      "metadata": {
        "id": "F9VzlElnu_4D"
      },
      "outputs": [],
      "source": [
        "print(\"Downloading is starting...\")\n",
        "download_dataset(data_dir, classes, limit=number_for_samples)"
      ]
    },
    {
      "cell_type": "markdown",
      "metadata": {
        "id": "MAlKhpopy3YQ"
      },
      "source": [
        "# Gpu"
      ]
    },
    {
      "cell_type": "code",
      "execution_count": null,
      "metadata": {
        "id": "6yUe-2Ryy8lg"
      },
      "outputs": [],
      "source": [
        "import torch"
      ]
    },
    {
      "cell_type": "code",
      "execution_count": null,
      "metadata": {
        "id": "Dv6xKUiTy_a_"
      },
      "outputs": [],
      "source": [
        "print(torch.cuda.is_available())\n",
        "device = torch.device('cuda:0' if torch.cuda.is_available() else 'cpu')\n",
        "print(device)"
      ]
    },
    {
      "cell_type": "markdown",
      "metadata": {
        "id": "8fRrqVXfzhQx"
      },
      "source": [
        "# Modelio sukurimas"
      ]
    },
    {
      "cell_type": "code",
      "execution_count": null,
      "metadata": {
        "id": "Qovv_ZHQzt8P"
      },
      "outputs": [],
      "source": [
        "from torchvision import models"
      ]
    },
    {
      "cell_type": "code",
      "execution_count": null,
      "metadata": {
        "id": "IJN76y5fzkYT"
      },
      "outputs": [],
      "source": [
        "model = models.vgg16(pretrained = True).to(device)\n",
        "model.eval()"
      ]
    },
    {
      "cell_type": "markdown",
      "metadata": {
        "id": "saHIF8bgw-aT"
      },
      "source": [
        "# Transformacijos"
      ]
    },
    {
      "cell_type": "code",
      "execution_count": null,
      "metadata": {
        "id": "SL12RfHeyBdX"
      },
      "outputs": [],
      "source": [
        "from torchvision import transforms"
      ]
    },
    {
      "cell_type": "code",
      "execution_count": null,
      "metadata": {
        "id": "Ben5mp5-x675"
      },
      "outputs": [],
      "source": [
        "all_transforms = transforms.Compose([\n",
        "    transforms.Resize((224, 224)),\n",
        "    transforms.ToTensor(),\n",
        "    transforms.Normalize((0.485, 0.456, 0.406), (0.229, 0.224, 0.225)),\n",
        "])"
      ]
    },
    {
      "cell_type": "markdown",
      "metadata": {
        "id": "iim8wOn12wlJ"
      },
      "source": [
        "# Dataset"
      ]
    },
    {
      "cell_type": "code",
      "execution_count": null,
      "metadata": {
        "id": "Szqn3bYo3a3l"
      },
      "outputs": [],
      "source": [
        "from torch.utils.data import Dataset"
      ]
    },
    {
      "cell_type": "code",
      "execution_count": null,
      "metadata": {
        "id": "aKHYNGiM4lWq"
      },
      "outputs": [],
      "source": [
        "import torch\n",
        "from pandas.core.common import flatten\n",
        "import numpy as np\n",
        "\n",
        "from PIL import Image\n",
        "from typing import Tuple, Dict, List\n",
        "\n",
        "import glob"
      ]
    },
    {
      "cell_type": "code",
      "execution_count": null,
      "metadata": {
        "id": "ndXUKZtCM3tu"
      },
      "outputs": [],
      "source": [
        "data_path = 'OpenImages'\n",
        "\n",
        "image_paths = []      #to store image paths in list\n",
        "image_classes = []    #to store class values\n",
        "\n",
        "for data_path in glob.glob(data_path + '/*'):\n",
        "    image_classes.append(data_path.split('/')[-1])\n",
        "    image_paths.append(glob.glob(data_path + \"/images\" +  '/*'))\n",
        "    \n",
        "image_paths = list(flatten(image_paths))"
      ]
    },
    {
      "cell_type": "code",
      "execution_count": null,
      "metadata": {
        "id": "CwuDgEYW6Cb6"
      },
      "outputs": [],
      "source": [
        "# Pagalbinės funkcijos verčiant pavadinimą (label) į indeksą\n",
        "idx_to_class = {i:j for i, j in enumerate(image_classes)}\n",
        "class_to_idx = {value:key for key, value in idx_to_class.items()}\n",
        "print(idx_to_class)\n",
        "print(class_to_idx)"
      ]
    },
    {
      "cell_type": "code",
      "execution_count": null,
      "metadata": {
        "id": "c3jGwCMG2uyc"
      },
      "outputs": [],
      "source": [
        "class MyDataset(Dataset):\n",
        "\n",
        "   def __init__(self, image_paths, transform=False):\n",
        "        self.image_paths = image_paths\n",
        "        self.transform = transform\n",
        "        \n",
        "   def __len__(self):\n",
        "        return len(self.image_paths)\n",
        "\n",
        "   def __getitem__(self, idx):\n",
        "        image_filepath = self.image_paths[idx]\n",
        "        image = Image.open(image_filepath)\n",
        "        if image.mode is 'L':\n",
        "            image = image.convert('RGB')\n",
        "        image = self.transform(image)\n",
        "        \n",
        "        label = image_filepath.split('/')[1]\n",
        "        label = class_to_idx[label]\n",
        "        \n",
        "        return image, label"
      ]
    },
    {
      "cell_type": "code",
      "execution_count": null,
      "metadata": {
        "id": "T9_lwVUKSptW"
      },
      "outputs": [],
      "source": [
        "dataset = MyDataset(image_paths, all_transforms)"
      ]
    },
    {
      "cell_type": "markdown",
      "metadata": {
        "id": "gdj3hD7sWlCR"
      },
      "source": [
        "#  DataLoader"
      ]
    },
    {
      "cell_type": "code",
      "execution_count": null,
      "metadata": {
        "id": "wtzhvI5PWqko"
      },
      "outputs": [],
      "source": [
        "from torch.utils.data import DataLoader"
      ]
    },
    {
      "cell_type": "code",
      "execution_count": null,
      "metadata": {
        "id": "U1u5pHkjWrVT"
      },
      "outputs": [],
      "source": [
        "loader = DataLoader(\n",
        "    dataset, batch_size=32, shuffle=True, num_workers=2\n",
        ")\n",
        "\n",
        "iterator = iter(loader)"
      ]
    },
    {
      "cell_type": "markdown",
      "metadata": {
        "id": "0J7XFEjJtItY"
      },
      "source": [
        "# While ciklas kol pereisim visas nuotraukas"
      ]
    },
    {
      "cell_type": "code",
      "execution_count": null,
      "metadata": {
        "id": "CR-sNx3mtHe4"
      },
      "outputs": [],
      "source": [
        "ground_truth = []\n",
        "predictions_bee = []\n",
        "predictions_banana = []\n",
        "predictions_castle = []\n",
        "\n",
        "while True:\n",
        "        try:\n",
        "            features, labels = next(iterator)\n",
        "            output = model(features.to(device))\n",
        "\n",
        "            for i in range(output.shape[0]):\n",
        "              predictions = torch.softmax(output[i], 0)\n",
        "              predictions_castle = np.append(predictions_castle, predictions[483].cpu().detach())\n",
        "              predictions_bee = np.append(predictions_bee, predictions[309].cpu().detach())\n",
        "              predictions_banana = np.append(predictions_banana, predictions[954].cpu().detach())\n",
        "\n",
        "            ground_truth = np.append(ground_truth, labels)\n",
        "        except StopIteration:\n",
        "            break"
      ]
    },
    {
      "cell_type": "markdown",
      "source": [
        "# Skaičiuojame lenteles funkcija"
      ],
      "metadata": {
        "id": "3Vr4AcGEPk2Z"
      }
    },
    {
      "cell_type": "code",
      "execution_count": null,
      "metadata": {
        "id": "_-3u17eVTUad"
      },
      "outputs": [],
      "source": [
        "def calculate_confusion_matrix(ground_truth, predictions, class_idx, threshold = 0.5):\n",
        "  predictions_thresholded = (predictions >= threshold).astype(np.float64)\n",
        "  matrix = {}\n",
        "  matrix['TP'] = np.sum(np.bitwise_and(ground_truth == class_idx, predictions_thresholded == 1))\n",
        "  matrix['TN'] = np.sum(np.bitwise_and(ground_truth != class_idx, predictions_thresholded == 0))\n",
        "  matrix['FP'] = np.sum(np.bitwise_and(ground_truth != class_idx, predictions_thresholded == 1))\n",
        "  matrix['FN'] = np.sum(np.bitwise_and(ground_truth == class_idx, predictions_thresholded == 0))\n",
        "  # print(matrix['TN'], matrix['FP'], matrix['FN'], matrix['TP'])\n",
        "\n",
        "  return matrix\n",
        "\n",
        "  # Confusion matrix\n",
        "  #   0  1 predicted \n",
        "  # 0 TN FP\n",
        "  # 1 FN TP"
      ]
    },
    {
      "cell_type": "markdown",
      "source": [
        "# Skaičiuojame metrikas funkcija"
      ],
      "metadata": {
        "id": "uE4rr262OBh8"
      }
    },
    {
      "cell_type": "code",
      "source": [
        "def calculate_metrics(TP, TN, FP, FN):\n",
        "  metrics = {}\n",
        "  metrics['accuracy'] = (TP + TN) / (TP + FP + TN + FN)\n",
        "  metrics['recall'] = TP / (TP + FN)\n",
        "  metrics['precision'] = TP / (TP + FP)\n",
        "  metrics['f1'] = 2 * (metrics['recall'] * metrics['precision']) / (metrics['recall'] + metrics['precision'])\n",
        "\n",
        "  return metrics"
      ],
      "metadata": {
        "id": "pY_XE6n9OA0j"
      },
      "execution_count": null,
      "outputs": []
    },
    {
      "cell_type": "markdown",
      "source": [
        "# Atliekame skaičiavimus"
      ],
      "metadata": {
        "id": "hzegBrZMP9vK"
      }
    },
    {
      "cell_type": "code",
      "source": [
        "matrix_banana = calculate_confusion_matrix(ground_truth, predictions_banana, 0, 0.05)\n",
        "matrix_bee = calculate_confusion_matrix(ground_truth, predictions_bee, 1, 0.05)\n",
        "matrix_castle = calculate_confusion_matrix(ground_truth, predictions_castle, 2, 0.05)\n",
        "\n",
        "matrix_all = {}\n",
        "matrix_all['TP'] = matrix_banana['TP'] + matrix_bee['TP'] + matrix_castle['TP']\n",
        "matrix_all['TN'] = matrix_banana['TN'] + matrix_bee['TN'] + matrix_castle['TN']\n",
        "matrix_all['FP'] = matrix_banana['FP'] + matrix_bee['FP'] + matrix_castle['FP']\n",
        "matrix_all['FN'] = matrix_banana['FN'] + matrix_bee['FN'] + matrix_castle['FN']\n",
        "\n",
        "metrics_banana = calculate_metrics(matrix_banana['TP'], matrix_banana['TN'], matrix_banana['FP'], matrix_banana['FN'])\n",
        "metrics_bee = calculate_metrics(matrix_bee['TP'], matrix_bee['TN'], matrix_bee['FP'], matrix_bee['FN'])\n",
        "metrics_castle = calculate_metrics(matrix_castle['TP'], matrix_castle['TN'], matrix_castle['FP'], matrix_castle['FN'])\n",
        "metrics_all = calculate_metrics(matrix_all['TP'], matrix_all['TN'], matrix_all['FP'], matrix_all['FN'])"
      ],
      "metadata": {
        "id": "8v5zq4JPQAzd"
      },
      "execution_count": null,
      "outputs": []
    },
    {
      "cell_type": "markdown",
      "source": [
        "# Spausdinimo fukcija ir spausdinimas"
      ],
      "metadata": {
        "id": "G7tK-3S8Ypxp"
      }
    },
    {
      "cell_type": "code",
      "source": [
        "def print_metrics(metrics, class_idx):\n",
        "  print('Class ', idx_to_class[class_idx], ' metrics:')\n",
        "  print('  accuracy : ', metrics['accuracy'])\n",
        "  print('  recall : ', metrics['recall'])\n",
        "  print('  precision : ', metrics['precision'])\n",
        "  print('  f1 : ', metrics['f1'])\n",
        "  print()"
      ],
      "metadata": {
        "id": "c4GprkBBX08L"
      },
      "execution_count": null,
      "outputs": []
    },
    {
      "cell_type": "code",
      "source": [
        "def print_all_metrics(metrics):\n",
        "  print('All ', ' metrics:')\n",
        "  print('  accuracy : ', metrics['accuracy'])\n",
        "  print('  recall : ', metrics['recall'])\n",
        "  print('  precision : ', metrics['precision'])\n",
        "  print('  f1 : ', metrics['f1'])"
      ],
      "metadata": {
        "id": "2uW1VWKkZcEa"
      },
      "execution_count": null,
      "outputs": []
    },
    {
      "cell_type": "code",
      "source": [
        "print_metrics(metrics_banana, 0)\n",
        "print_metrics(metrics_bee, 1)\n",
        "print_metrics(metrics_castle, 2)\n",
        "print_all_metrics(metrics_all)"
      ],
      "metadata": {
        "colab": {
          "base_uri": "https://localhost:8080/"
        },
        "id": "FYG-pHagYbJQ",
        "outputId": "df0ad1f9-0e45-4f1f-f12f-58f139cac1fd"
      },
      "execution_count": 42,
      "outputs": [
        {
          "output_type": "stream",
          "name": "stdout",
          "text": [
            "Class  banana  metrics:\n",
            "  accuracy :  0.9080919080919081\n",
            "  recall :  0.7526881720430108\n",
            "  precision :  1.0\n",
            "  f1 :  0.8588957055214724\n",
            "\n",
            "Class  bee  metrics:\n",
            "  accuracy :  0.8901098901098901\n",
            "  recall :  0.7043010752688172\n",
            "  precision :  1.0\n",
            "  f1 :  0.8264984227129338\n",
            "\n",
            "Class  castle  metrics:\n",
            "  accuracy :  0.972027972027972\n",
            "  recall :  0.8910505836575876\n",
            "  precision :  1.0\n",
            "  f1 :  0.9423868312757202\n",
            "\n",
            "All   metrics:\n",
            "  accuracy :  0.9234099234099234\n",
            "  recall :  0.7702297702297702\n",
            "  precision :  1.0\n",
            "  f1 :  0.8702031602708804\n"
          ]
        }
      ]
    },
    {
      "cell_type": "markdown",
      "source": [
        "# Prireikė dirbant..."
      ],
      "metadata": {
        "id": "76k5pBJWpi0p"
      }
    },
    {
      "cell_type": "code",
      "execution_count": null,
      "metadata": {
        "id": "O4rbeydNbmXf"
      },
      "outputs": [],
      "source": [
        "# Labels indexai modelio output'e\n",
        "with open('imagenet_classes.txt', 'r') as fid:\n",
        "  imagenet_labels = [ln.strip() for ln in fid]\n",
        "print(imagenet_labels)\n",
        "print(imagenet_labels.index(\"bee\"))\n",
        "print(imagenet_labels.index(\"banana\"))\n",
        "print(imagenet_labels.index(\"castle\"))"
      ]
    },
    {
      "cell_type": "code",
      "source": [
        "torch.cuda.empty_cache()"
      ],
      "metadata": {
        "id": "8nYmcCqFo3BM"
      },
      "execution_count": null,
      "outputs": []
    }
  ],
  "metadata": {
    "accelerator": "GPU",
    "colab": {
      "provenance": []
    },
    "gpuClass": "standard",
    "kernelspec": {
      "display_name": "Python 3",
      "name": "python3"
    },
    "language_info": {
      "name": "python"
    }
  },
  "nbformat": 4,
  "nbformat_minor": 0
}
