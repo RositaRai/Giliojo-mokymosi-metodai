{
  "cells": [
    {
      "cell_type": "markdown",
      "source": [
        "Rosita Raišuotytė 2016026 [\"Deer\", \"Car\", \"Helicopter\"]"
      ],
      "metadata": {
        "id": "wpXhtetH4w1V"
      }
    },
    {
      "cell_type": "code",
      "execution_count": 1,
      "metadata": {
        "id": "SwG5Ug-OkA1_"
      },
      "outputs": [],
      "source": [
        "import torch\n",
        "from pandas.core.common import flatten\n",
        "import numpy as np\n",
        "\n",
        "from PIL import Image\n",
        "from typing import Tuple, Dict, List\n",
        "\n",
        "import glob\n",
        "import re\n",
        "\n",
        "import matplotlib.pyplot as plt\n",
        "\n",
        "from PIL import Image\n",
        "import requests\n",
        "from io import BytesIO"
      ]
    },
    {
      "cell_type": "markdown",
      "metadata": {
        "id": "qgrUeICX7NXI"
      },
      "source": [
        "# Nuotraukų parsisiuntimas naudojantis openimages"
      ]
    },
    {
      "cell_type": "code",
      "execution_count": 3,
      "metadata": {
        "colab": {
          "base_uri": "https://localhost:8080/"
        },
        "id": "2KNcvBAl7MdB",
        "outputId": "833cfae2-97d3-445b-f5cb-8f48bed650af"
      },
      "outputs": [
        {
          "output_type": "stream",
          "name": "stdout",
          "text": [
            "Looking in indexes: https://pypi.org/simple, https://us-python.pkg.dev/colab-wheels/public/simple/\n",
            "Collecting openimages\n",
            "  Downloading openimages-0.0.1-py2.py3-none-any.whl (10 kB)\n",
            "Requirement already satisfied: lxml in /usr/local/lib/python3.9/dist-packages (from openimages) (4.9.2)\n",
            "Requirement already satisfied: tqdm in /usr/local/lib/python3.9/dist-packages (from openimages) (4.65.0)\n",
            "Requirement already satisfied: pandas in /usr/local/lib/python3.9/dist-packages (from openimages) (1.4.4)\n",
            "Requirement already satisfied: requests in /usr/local/lib/python3.9/dist-packages (from openimages) (2.27.1)\n",
            "Collecting boto3\n",
            "  Downloading boto3-1.26.96-py3-none-any.whl (135 kB)\n",
            "\u001b[2K     \u001b[90m━━━━━━━━━━━━━━━━━━━━━━━━━━━━━━━━━━━━━━━\u001b[0m \u001b[32m135.5/135.5 KB\u001b[0m \u001b[31m1.7 MB/s\u001b[0m eta \u001b[36m0:00:00\u001b[0m\n",
            "\u001b[?25hCollecting cvdata\n",
            "  Downloading cvdata-0.0.3-py3-none-any.whl (37 kB)\n",
            "Collecting jmespath<2.0.0,>=0.7.1\n",
            "  Downloading jmespath-1.0.1-py3-none-any.whl (20 kB)\n",
            "Collecting s3transfer<0.7.0,>=0.6.0\n",
            "  Downloading s3transfer-0.6.0-py3-none-any.whl (79 kB)\n",
            "\u001b[2K     \u001b[90m━━━━━━━━━━━━━━━━━━━━━━━━━━━━━━━━━━━━━━━━\u001b[0m \u001b[32m79.6/79.6 KB\u001b[0m \u001b[31m9.7 MB/s\u001b[0m eta \u001b[36m0:00:00\u001b[0m\n",
            "\u001b[?25hCollecting botocore<1.30.0,>=1.29.96\n",
            "  Downloading botocore-1.29.96-py3-none-any.whl (10.5 MB)\n",
            "\u001b[2K     \u001b[90m━━━━━━━━━━━━━━━━━━━━━━━━━━━━━━━━━━━━━━━\u001b[0m \u001b[32m10.5/10.5 MB\u001b[0m \u001b[31m112.9 MB/s\u001b[0m eta \u001b[36m0:00:00\u001b[0m\n",
            "\u001b[?25hRequirement already satisfied: pillow in /usr/local/lib/python3.9/dist-packages (from cvdata->openimages) (8.4.0)\n",
            "Requirement already satisfied: numpy in /usr/local/lib/python3.9/dist-packages (from cvdata->openimages) (1.22.4)\n",
            "Requirement already satisfied: opencv-python in /usr/local/lib/python3.9/dist-packages (from cvdata->openimages) (4.7.0.72)\n",
            "Requirement already satisfied: pytz>=2020.1 in /usr/local/lib/python3.9/dist-packages (from pandas->openimages) (2022.7.1)\n",
            "Requirement already satisfied: python-dateutil>=2.8.1 in /usr/local/lib/python3.9/dist-packages (from pandas->openimages) (2.8.2)\n",
            "Requirement already satisfied: idna<4,>=2.5 in /usr/local/lib/python3.9/dist-packages (from requests->openimages) (3.4)\n",
            "Requirement already satisfied: certifi>=2017.4.17 in /usr/local/lib/python3.9/dist-packages (from requests->openimages) (2022.12.7)\n",
            "Requirement already satisfied: urllib3<1.27,>=1.21.1 in /usr/local/lib/python3.9/dist-packages (from requests->openimages) (1.26.15)\n",
            "Requirement already satisfied: charset-normalizer~=2.0.0 in /usr/local/lib/python3.9/dist-packages (from requests->openimages) (2.0.12)\n",
            "Requirement already satisfied: six>=1.5 in /usr/local/lib/python3.9/dist-packages (from python-dateutil>=2.8.1->pandas->openimages) (1.16.0)\n",
            "Installing collected packages: jmespath, botocore, s3transfer, boto3, cvdata, openimages\n",
            "Successfully installed boto3-1.26.96 botocore-1.29.96 cvdata-0.0.3 jmespath-1.0.1 openimages-0.0.1 s3transfer-0.6.0\n"
          ]
        }
      ],
      "source": [
        "pip install openimages"
      ]
    },
    {
      "cell_type": "code",
      "execution_count": 4,
      "metadata": {
        "id": "M6FTk9Mk7eer"
      },
      "outputs": [],
      "source": [
        "import os\n",
        "from openimages.download import download_dataset"
      ]
    },
    {
      "cell_type": "code",
      "execution_count": 5,
      "metadata": {
        "id": "rM2CLbCT7eqs"
      },
      "outputs": [],
      "source": [
        "data_dir = \"OpenImages\"\n",
        "\n",
        "if not os.path.exists(data_dir):\n",
        "    os.makedirs(data_dir)\n",
        "\n",
        "number_for_samples = 2000\n",
        "classes = ['Deer', 'Car', 'Helicopter']"
      ]
    },
    {
      "cell_type": "code",
      "execution_count": 6,
      "metadata": {
        "colab": {
          "base_uri": "https://localhost:8080/"
        },
        "id": "sm9PoBWw7n4c",
        "outputId": "736ec9ac-9b5c-4c6b-e8ea-b9d4c94a2f5e"
      },
      "outputs": [
        {
          "output_type": "stream",
          "name": "stdout",
          "text": [
            "Downloading is starting...\n"
          ]
        },
        {
          "output_type": "stream",
          "name": "stderr",
          "text": [
            "100%|██████████| 711/711 [00:44<00:00, 16.09it/s]\n",
            "100%|██████████| 2000/2000 [01:56<00:00, 17.19it/s]\n",
            "100%|██████████| 1067/1067 [01:03<00:00, 16.77it/s]\n",
            "100%|██████████| 49/49 [00:04<00:00, 10.45it/s]\n",
            "100%|██████████| 177/177 [00:11<00:00, 15.24it/s]\n"
          ]
        },
        {
          "output_type": "execute_result",
          "data": {
            "text/plain": [
              "{'deer': {'images_dir': 'OpenImages/deer/images'},\n",
              " 'car': {'images_dir': 'OpenImages/car/images'},\n",
              " 'helicopter': {'images_dir': 'OpenImages/helicopter/images'}}"
            ]
          },
          "metadata": {},
          "execution_count": 6
        }
      ],
      "source": [
        "print(\"Downloading is starting...\")\n",
        "download_dataset(data_dir, classes, limit=number_for_samples)"
      ]
    },
    {
      "cell_type": "code",
      "execution_count": 7,
      "metadata": {
        "id": "ExSy_yp98aWd"
      },
      "outputs": [],
      "source": [
        "def get_photo_paths(data_path):\n",
        "  image_paths = []\n",
        "  image_paths_car = []\n",
        "  image_paths_deer = []\n",
        "  image_paths_helicopter = []\n",
        "\n",
        "  for data_path in glob.glob(data_path + '/*'):\n",
        "    paths = glob.glob(data_path + '/images/*')\n",
        "    print(data_path, ' ', len(paths))\n",
        "\n",
        "    for photo_path in paths:\n",
        "      if re.search(\".*car\", photo_path):\n",
        "        image_paths_car.append(photo_path)\n",
        "      if re.search(\".*deer\", photo_path):\n",
        "        image_paths_deer.append(photo_path) \n",
        "      if re.search(\".*helicopter\", photo_path):\n",
        "        image_paths_helicopter.append(photo_path)  \n",
        "    \n",
        "  return list(flatten(image_paths_car)), list(flatten(image_paths_deer)), list(flatten(image_paths_helicopter)) "
      ]
    },
    {
      "cell_type": "code",
      "execution_count": 8,
      "metadata": {
        "colab": {
          "base_uri": "https://localhost:8080/"
        },
        "id": "3rWiTn7J8p-z",
        "outputId": "2308dc30-693a-4d41-91c7-66d34cb5e1d7"
      },
      "outputs": [
        {
          "output_type": "stream",
          "name": "stdout",
          "text": [
            "OpenImages/helicopter   1067\n",
            "OpenImages/car   2000\n",
            "OpenImages/deer   937\n",
            "3202\n",
            "401\n"
          ]
        }
      ],
      "source": [
        "image_paths_car, image_paths_deer, image_paths_helicopter = get_photo_paths(data_dir)\n",
        "image_classes = ['deer', 'car', 'helicopter']\n",
        "\n",
        "split_1 = int(0.8 * len(image_paths_car))\n",
        "split_2 = int(0.9 * len(image_paths_car))\n",
        "train_filenames_car = image_paths_car[:split_1]\n",
        "test_filenames_car = image_paths_car[split_2:]\n",
        "\n",
        "split_1 = int(0.8 * len(image_paths_deer))\n",
        "split_2 = int(0.9 * len(image_paths_deer))\n",
        "train_filenames_deer = image_paths_deer[:split_1]\n",
        "test_filenames_deer = image_paths_deer[split_2:]\n",
        "\n",
        "split_1 = int(0.8 * len(image_paths_helicopter))\n",
        "split_2 = int(0.9 * len(image_paths_helicopter))\n",
        "train_filenames_helicopter = image_paths_helicopter[:split_1]\n",
        "test_filenames_helicopter = image_paths_helicopter[split_2:]\n",
        "\n",
        "image_paths_train = train_filenames_car + train_filenames_deer + train_filenames_helicopter\n",
        "image_paths_test = test_filenames_car + test_filenames_deer + test_filenames_helicopter\n",
        "\n",
        "print(len(image_paths_train))\n",
        "print(len(image_paths_test))"
      ]
    },
    {
      "cell_type": "markdown",
      "metadata": {
        "id": "qrhkwQlkrF19"
      },
      "source": [
        "# Nuotraukų parsisiuntimas naudojantis downloadOI.py"
      ]
    },
    {
      "cell_type": "code",
      "execution_count": null,
      "metadata": {
        "id": "f_qEUbGwQFYH"
      },
      "outputs": [],
      "source": [
        "import os"
      ]
    },
    {
      "cell_type": "code",
      "execution_count": null,
      "metadata": {
        "id": "BctmixpDVF1t"
      },
      "outputs": [],
      "source": [
        "# Download required meta-files\n",
        "!wget https://storage.googleapis.com/openimages/2018_04/class-descriptions-boxable.csv\n",
        " \n",
        "!wget https://storage.googleapis.com/openimages/2018_04/train/train-annotations-bbox.csv\n",
        " \n",
        "!wget https://storage.googleapis.com/openimages/2018_04/validation/validation-annotations-bbox.csv\n",
        " \n",
        "!wget https://storage.googleapis.com/openimages/2018_04/test/test-annotations-bbox.csv"
      ]
    },
    {
      "cell_type": "code",
      "execution_count": null,
      "metadata": {
        "id": "sPPlxckTVqbg"
      },
      "outputs": [],
      "source": [
        "!pip install awscli"
      ]
    },
    {
      "cell_type": "code",
      "execution_count": null,
      "metadata": {
        "id": "32TfVRrh2JWN"
      },
      "outputs": [],
      "source": [
        "!python3 downloadOI.py --classes \"Deer,Car,Helicopter\" --mode train"
      ]
    },
    {
      "cell_type": "code",
      "execution_count": null,
      "metadata": {
        "id": "n5-1XTt3g2BH"
      },
      "outputs": [],
      "source": [
        "!python3 downloadOI.py --classes \"Deer,Car,Helicopter\" --mode test"
      ]
    },
    {
      "cell_type": "markdown",
      "metadata": {
        "id": "avDY-MSsrNqg"
      },
      "source": [
        "# Nuotraukų kelių gavimas parsisiuntus naudojantis downloadOI.py"
      ]
    },
    {
      "cell_type": "code",
      "execution_count": null,
      "metadata": {
        "id": "QsNsT0TJZC_P"
      },
      "outputs": [],
      "source": [
        "import torch\n",
        "from pandas.core.common import flatten\n",
        "import numpy as np\n",
        "\n",
        "from PIL import Image\n",
        "from typing import Tuple, Dict, List\n",
        "\n",
        "import glob\n",
        "import re"
      ]
    },
    {
      "cell_type": "code",
      "execution_count": null,
      "metadata": {
        "id": "RQaFQ-91Y-nQ"
      },
      "outputs": [],
      "source": [
        "def get_photo_paths(data_path):\n",
        "  image_paths = []\n",
        "  for data_path in glob.glob(data_path + '/*'):\n",
        "    paths = glob.glob(data_path + '/*')\n",
        "    print(data_path, ' ', len(paths))\n",
        "\n",
        "    for photo_path in paths:\n",
        "      if re.search(\".*jpg$\", photo_path):\n",
        "        image_paths.append(photo_path)\n",
        "    \n",
        "  return list(flatten(image_paths))"
      ]
    },
    {
      "cell_type": "code",
      "execution_count": null,
      "metadata": {
        "colab": {
          "base_uri": "https://localhost:8080/"
        },
        "id": "2PoH5X6Rm1Y2",
        "outputId": "c840b182-9d80-42a0-c343-22fde43ace89"
      },
      "outputs": [
        {
          "name": "stdout",
          "output_type": "stream",
          "text": [
            "/content/train/Deer   4186\n",
            "/content/train/Giraffe   1840\n",
            "/content/train/Elephant   3464\n",
            "/content/test/Deer   560\n",
            "/content/test/Giraffe   94\n",
            "/content/test/Elephant   272\n"
          ]
        }
      ],
      "source": [
        "image_classes = ['Deer', 'Car', 'Helicopter']\n",
        "data_dir = '/content'\n",
        "\n",
        "image_paths_train = get_photo_paths(data_dir + \"/train\")\n",
        "image_paths_test = get_photo_paths(data_dir + \"/test\")"
      ]
    },
    {
      "cell_type": "markdown",
      "metadata": {
        "id": "IEB7rs7orfdq"
      },
      "source": [
        "# Gpu/cpu device"
      ]
    },
    {
      "cell_type": "code",
      "execution_count": 2,
      "metadata": {
        "colab": {
          "base_uri": "https://localhost:8080/"
        },
        "id": "z6JFlIbKrZZb",
        "outputId": "b04b477e-caaf-46ca-efb6-57d9ba8fd634"
      },
      "outputs": [
        {
          "output_type": "stream",
          "name": "stdout",
          "text": [
            "True\n",
            "cuda:0\n"
          ]
        }
      ],
      "source": [
        "print(torch.cuda.is_available())\n",
        "device = torch.device('cuda:0' if torch.cuda.is_available() else 'cpu')\n",
        "print(device)"
      ]
    },
    {
      "cell_type": "markdown",
      "metadata": {
        "id": "Zd7XGY1VsUHW"
      },
      "source": [
        "# Transformacijos"
      ]
    },
    {
      "cell_type": "code",
      "execution_count": 9,
      "metadata": {
        "id": "vrAlB1j1sRNh"
      },
      "outputs": [],
      "source": [
        "from torchvision import transforms"
      ]
    },
    {
      "cell_type": "code",
      "execution_count": 10,
      "metadata": {
        "id": "3UZNBqexrvvT"
      },
      "outputs": [],
      "source": [
        "transforms_test = transforms.Compose([\n",
        "    transforms.Resize((128, 128)),\n",
        "    transforms.ToTensor(),\n",
        "    transforms.Normalize(mean=(0.5, 0.5, 0.5), std=(0.5, 0.5, 0.5))\n",
        "])\n",
        "\n",
        "# transforms_train = transforms.Compose([\n",
        "#     transforms.Resize((128, 128)),\n",
        "#     transforms.ToTensor(),\n",
        "#     transforms.Normalize(mean=(0.5, 0.5, 0.5), std=(0.5, 0.5, 0.5))\n",
        "# ])\n",
        "\n",
        "transforms_train = transforms.Compose([\n",
        "    transforms.RandomRotation(15),\n",
        "    transforms.Resize((128, 128)),\n",
        "    transforms.RandomHorizontalFlip(),\n",
        "    transforms.RandomGrayscale(),\n",
        "    transforms.ToTensor(),    \n",
        "    transforms.Normalize(mean=(0.5, 0.5, 0.5), std=(0.5, 0.5, 0.5))\n",
        "])"
      ]
    },
    {
      "cell_type": "markdown",
      "metadata": {
        "id": "DbZUHmkAroC6"
      },
      "source": [
        "# Dataset"
      ]
    },
    {
      "cell_type": "code",
      "execution_count": 11,
      "metadata": {
        "id": "S323KR7Ermpz"
      },
      "outputs": [],
      "source": [
        "from torch.utils.data import Dataset"
      ]
    },
    {
      "cell_type": "code",
      "execution_count": 12,
      "metadata": {
        "id": "1IOn9KxTrtnF"
      },
      "outputs": [],
      "source": [
        "class MyDataset(Dataset):\n",
        "\n",
        "   def __init__(self, image_paths, transform=True):\n",
        "        self.image_paths = image_paths\n",
        "        self.transform = transform\n",
        "        \n",
        "   def __len__(self):\n",
        "        return len(self.image_paths)\n",
        "\n",
        "   def __getitem__(self, idx):\n",
        "        image_filepath = self.image_paths[idx]\n",
        "        image = Image.open(image_filepath)\n",
        "        if image.mode is not 'RGB':\n",
        "            image = image.convert('RGB')\n",
        "        image = self.transform(image)\n",
        "        \n",
        "        label = image_filepath.split('/')[1]  #[3]\n",
        "        label = class_to_idx[label]\n",
        "        \n",
        "        return image, label"
      ]
    },
    {
      "cell_type": "markdown",
      "metadata": {
        "id": "F9hctB4WsvP7"
      },
      "source": [
        "# Dataloader"
      ]
    },
    {
      "cell_type": "code",
      "execution_count": 13,
      "metadata": {
        "id": "7lnMHammsw9m"
      },
      "outputs": [],
      "source": [
        "from torch.utils.data import DataLoader"
      ]
    },
    {
      "cell_type": "code",
      "execution_count": 14,
      "metadata": {
        "id": "2lweJ8swsy0J"
      },
      "outputs": [],
      "source": [
        "num_workers = 2\n",
        "batch_size = 16"
      ]
    },
    {
      "cell_type": "markdown",
      "metadata": {
        "id": "Itihx33ZxSu8"
      },
      "source": [
        "# Modelis"
      ]
    },
    {
      "cell_type": "code",
      "execution_count": 64,
      "metadata": {
        "id": "HmBVJISSKOpZ"
      },
      "outputs": [],
      "source": [
        "class MyModel1(torch.nn.Module):\n",
        "  def __init__(self, in_shape, out_classes):\n",
        "    super().__init__()\n",
        "    self.num_classes = out_classes\n",
        "    \n",
        "    self.conv1_1 = torch.nn.Conv2d(in_shape[0], 32, (3, 3), padding = 'same')\n",
        "    self.conv1_2 = torch.nn.Conv2d(32, 32, (3, 3), padding = 'same')\n",
        "    self.conv2_1 = torch.nn.Conv2d(32, 64, (3, 3), padding = 'same')\n",
        "    self.conv2_2 = torch.nn.Conv2d(64, 64, (3, 3), padding = 'same')\n",
        "    self.fc1 = torch.nn.Linear(64 * (in_shape[1] // (2*2)) * (in_shape[2] // (2*2)), 224)\n",
        "    self.fc2 = torch.nn.Linear(224, 128)\n",
        "    self.fc3 = torch.nn.Linear(128, out_classes)\n",
        "\n",
        "  def forward(self, x):\n",
        "    y = torch.nn.Sequential(\n",
        "        self.conv1_1,\n",
        "        torch.nn.ReLU(),\n",
        "        self.conv1_2,\n",
        "        torch.nn.ReLU(),\n",
        "        torch.nn.MaxPool2d((2, 2), (2, 2)),\n",
        "\n",
        "        self.conv2_1,\n",
        "        torch.nn.ReLU(),\n",
        "        self.conv2_2,\n",
        "        torch.nn.ReLU(),\n",
        "        torch.nn.MaxPool2d((2, 2), (2, 2)),\n",
        "\n",
        "        torch.nn.Flatten(),\n",
        "        self.fc1,\n",
        "        torch.nn.ReLU(),\n",
        "        self.fc2,\n",
        "        torch.nn.ReLU(),\n",
        "        self.fc3\n",
        "    )(x)\n",
        "    return y\n",
        "\n",
        "# Epoch: 30, Time: 59m33s, Training loss: 0.12069132666344481\n",
        "# Training accuracy: 97.41, Validation accuracy: 89.03    "
      ]
    },
    {
      "cell_type": "code",
      "execution_count": null,
      "metadata": {
        "id": "pIXM6BhlPvON"
      },
      "outputs": [],
      "source": [
        "class MyModel2(torch.nn.Module):\n",
        "  def __init__(self, in_shape, out_classes):\n",
        "    super().__init__()\n",
        "    self.num_classes = out_classes\n",
        "    \n",
        "    self.conv1_1 = torch.nn.Conv2d(in_shape[0], 32, (3, 3), padding = 'same')\n",
        "    self.conv1_2 = torch.nn.Conv2d(32, 32, (3, 3), padding = 'same')\n",
        "    self.conv2_1 = torch.nn.Conv2d(32, 64, (3, 3), padding = 'same')\n",
        "    self.conv2_2 = torch.nn.Conv2d(64, 64, (3, 3), padding = 'same')\n",
        "    self.fc1 = torch.nn.Linear(64 * (in_shape[1] // (2*2)) * (in_shape[2] // (2*2)), 224)\n",
        "    self.fc2 = torch.nn.Linear(224, 224)\n",
        "    self.fc3 = torch.nn.Linear(224, out_classes)\n",
        "\n",
        "  def forward(self, x):\n",
        "    y = torch.nn.Sequential(\n",
        "        self.conv1_1,\n",
        "        torch.nn.ReLU(),\n",
        "        self.conv1_2,\n",
        "        torch.nn.ReLU(),\n",
        "        torch.nn.MaxPool2d((2, 2), (2, 2)),\n",
        "\n",
        "        self.conv2_1,\n",
        "        torch.nn.ReLU(),\n",
        "        self.conv2_2,\n",
        "        torch.nn.ReLU(),\n",
        "        torch.nn.MaxPool2d((2, 2), (2, 2)),\n",
        "\n",
        "        torch.nn.Flatten(),\n",
        "        self.fc1,\n",
        "        torch.nn.ReLU(),\n",
        "        self.fc2,\n",
        "        torch.nn.ReLU(),\n",
        "        self.fc3\n",
        "    )(x)\n",
        "    return y\n",
        "\n",
        "# Epoch: 20, Time: 41m42s, Training loss: 0.1866034850899816\n",
        "# Training accuracy: 93.44, Validation accuracy: 87.03    "
      ]
    },
    {
      "cell_type": "code",
      "execution_count": 33,
      "metadata": {
        "id": "TC-rJ2H-5Auk"
      },
      "outputs": [],
      "source": [
        "class MyModel3(torch.nn.Module):\n",
        "  def __init__(self, in_shape, out_classes):\n",
        "    super().__init__()\n",
        "    self.num_classes = out_classes\n",
        "    \n",
        "    self.conv1_1 = torch.nn.Conv2d(in_shape[0], 64, (3, 3), padding = 'same')\n",
        "    self.conv1_2 = torch.nn.Conv2d(64, 64, (3, 3), padding = 'same')\n",
        "    self.conv2_1 = torch.nn.Conv2d(64, 128, (3, 3), padding = 'same')\n",
        "    self.fc1 = torch.nn.Linear(128 * (in_shape[1] // (2*2)) * (in_shape[2] // (2*2)), 516)\n",
        "    self.fc2 = torch.nn.Linear(516, 224)\n",
        "    self.fc3 = torch.nn.Linear(224, out_classes)\n",
        "\n",
        "  def forward(self, x):\n",
        "    y = torch.nn.Sequential(\n",
        "        self.conv1_1,\n",
        "        torch.nn.ReLU(),\n",
        "        self.conv1_2,\n",
        "        torch.nn.ReLU(),\n",
        "        torch.nn.MaxPool2d((2, 2), (2, 2)),\n",
        "\n",
        "        self.conv2_1,\n",
        "        torch.nn.ReLU(),\n",
        "        torch.nn.MaxPool2d((2, 2), (2, 2)),\n",
        "\n",
        "        torch.nn.Flatten(),\n",
        "        self.fc1,\n",
        "        torch.nn.ReLU(),\n",
        "        self.fc2,\n",
        "        torch.nn.ReLU(),\n",
        "        self.fc3\n",
        "    )(x)\n",
        "    return y\n",
        "\n",
        "# Epoch: 10, Time: 20m9s, Training loss: 0.1964600879411718\n",
        "# Training accuracy: 94.82, Validation accuracy: 85.79       "
      ]
    },
    {
      "cell_type": "code",
      "execution_count": null,
      "metadata": {
        "id": "oKg00-KQP6-4"
      },
      "outputs": [],
      "source": [
        "class MyModel4(torch.nn.Module):\n",
        "  def __init__(self, in_shape, out_classes):\n",
        "    super().__init__()\n",
        "    self.num_classes = out_classes\n",
        "    \n",
        "    self.conv1_1 = torch.nn.Conv2d(in_shape[0], 64, (7, 7), padding = 'same')\n",
        "    self.conv1_2 = torch.nn.Conv2d(64, 64, (3, 3), padding = 'same')\n",
        "    self.conv2_1 = torch.nn.Conv2d(64, 64, (3, 3), padding = 'same')\n",
        "    self.conv2_2 = torch.nn.Conv2d(64, 128, (3, 3), padding = 'same')\n",
        "    self.fc1 = torch.nn.Linear(128 * (in_shape[1] // (2*2)) * (in_shape[2] // (2*2)), 224)\n",
        "    self.fc2 = torch.nn.Linear(224, 128)\n",
        "    self.fc3 = torch.nn.Linear(128, out_classes)\n",
        "\n",
        "  def forward(self, x):\n",
        "    y = torch.nn.Sequential(\n",
        "        self.conv1_1,\n",
        "        torch.nn.ReLU(),\n",
        "        self.conv1_2,\n",
        "        torch.nn.ReLU(),\n",
        "        torch.nn.MaxPool2d((2, 2), (2, 2)),\n",
        "\n",
        "        self.conv2_1,\n",
        "        torch.nn.ReLU(),\n",
        "        self.conv2_2,\n",
        "        torch.nn.ReLU(),\n",
        "        torch.nn.MaxPool2d((2, 2), (2, 2)),\n",
        "\n",
        "        torch.nn.Flatten(),\n",
        "        self.fc1,\n",
        "        torch.nn.ReLU(),\n",
        "        self.fc2,\n",
        "        torch.nn.ReLU(),\n",
        "        self.fc3\n",
        "    )(x)\n",
        "    return y  \n",
        "\n",
        "# Epoch: 30, Time: 31m03s, Training loss: 0.14508988153127447\n",
        "# Training accuracy: 95.72, Validation accuracy: 83.54    "
      ]
    },
    {
      "cell_type": "code",
      "source": [
        "class MyModel5(torch.nn.Module):\n",
        "  def __init__(self, in_shape, out_classes):\n",
        "    super().__init__()\n",
        "    self.num_classes = out_classes\n",
        "    \n",
        "    self.conv1_1 = torch.nn.Conv2d(in_shape[0], 32, (3, 3), padding = 'same')\n",
        "    self.conv1_2 = torch.nn.Conv2d(32, 32, (3, 3), padding = 'same')\n",
        "    self.conv2_1 = torch.nn.Conv2d(32, 64, (3, 3), padding = 'same')\n",
        "    self.conv2_2 = torch.nn.Conv2d(64, 64, (3, 3), padding = 'same')\n",
        "    self.conv3_1 = torch.nn.Conv2d(64, 128, (3, 3), padding = 'same')\n",
        "    self.conv3_2 = torch.nn.Conv2d(128, 128, (3, 3), padding = 'same')\n",
        "    self.fc1 = torch.nn.Linear(128 * (in_shape[1] // (2*2*2)) * (in_shape[2] // (2*2*2)), 516)\n",
        "    self.fc2 = torch.nn.Linear(516, 224)\n",
        "    self.fc3 = torch.nn.Linear(224, out_classes)\n",
        "\n",
        "  def forward(self, x):\n",
        "    y = torch.nn.Sequential(\n",
        "        self.conv1_1,\n",
        "        torch.nn.ReLU(),\n",
        "        self.conv1_2,\n",
        "        torch.nn.ReLU(),\n",
        "        torch.nn.MaxPool2d((2, 2), (2, 2)),\n",
        "\n",
        "        self.conv2_1,\n",
        "        torch.nn.ReLU(),\n",
        "        self.conv2_2,\n",
        "        torch.nn.ReLU(),\n",
        "        torch.nn.MaxPool2d((2, 2), (2, 2)),\n",
        "\n",
        "        self.conv3_1,\n",
        "        torch.nn.ReLU(),\n",
        "        self.conv3_2,\n",
        "        torch.nn.ReLU(),\n",
        "        torch.nn.MaxPool2d((2, 2), (2, 2)),\n",
        "\n",
        "        torch.nn.Flatten(),\n",
        "        self.fc1,\n",
        "        torch.nn.ReLU(),\n",
        "        self.fc2,\n",
        "        torch.nn.ReLU(),\n",
        "        self.fc3\n",
        "    )(x)\n",
        "    return y\n",
        "\n",
        "# Epoch: 31, Time: 65m17s, Training loss: 0.10236165500639789\n",
        "# Training accuracy: 97.0, Validation accuracy: 86.53    "
      ],
      "metadata": {
        "id": "JlxHw26xzZ8p"
      },
      "execution_count": null,
      "outputs": []
    },
    {
      "cell_type": "code",
      "source": [
        "class MyModel6(torch.nn.Module):\n",
        "  def __init__(self, in_shape, out_classes):\n",
        "    super().__init__()\n",
        "    self.num_classes = out_classes\n",
        "    \n",
        "    self.conv1_1 = torch.nn.Conv2d(in_shape[0], 16, (3, 3), padding = 'same')\n",
        "    self.conv1_2 = torch.nn.Conv2d(16, 16, (3, 3), padding = 'same')\n",
        "    self.conv2_1 = torch.nn.Conv2d(16, 32, (3, 3), padding = 'same')\n",
        "    self.conv2_2 = torch.nn.Conv2d(32, 32, (3, 3), padding = 'same')\n",
        "    self.conv3_1 = torch.nn.Conv2d(32, 64, (3, 3), padding = 'same')\n",
        "    self.conv3_2 = torch.nn.Conv2d(64, 64, (3, 3), padding = 'same')\n",
        "    self.fc1 = torch.nn.Linear(64 * (in_shape[1] // (2*2*2)) * (in_shape[2] // (2*2*2)), 224)\n",
        "    self.fc2 = torch.nn.Linear(224, 128)\n",
        "    self.fc3 = torch.nn.Linear(128, out_classes)\n",
        "\n",
        "  def forward(self, x):\n",
        "    y = torch.nn.Sequential(\n",
        "        self.conv1_1,\n",
        "        torch.nn.ReLU(),\n",
        "        self.conv1_2,\n",
        "        torch.nn.ReLU(),\n",
        "        torch.nn.MaxPool2d((2, 2), (2, 2)),\n",
        "\n",
        "        self.conv2_1,\n",
        "        torch.nn.ReLU(),\n",
        "        self.conv2_2,\n",
        "        torch.nn.ReLU(),\n",
        "        torch.nn.MaxPool2d((2, 2), (2, 2)),\n",
        "\n",
        "        self.conv3_1,\n",
        "        torch.nn.ReLU(),\n",
        "        self.conv3_2,\n",
        "        torch.nn.ReLU(),\n",
        "        torch.nn.MaxPool2d((2, 2), (2, 2)),\n",
        "\n",
        "        torch.nn.Flatten(),\n",
        "        self.fc1,\n",
        "        torch.nn.ReLU(),\n",
        "        self.fc2,\n",
        "        torch.nn.ReLU(),\n",
        "        self.fc3\n",
        "    )(x)\n",
        "    return y\n",
        "\n",
        "# Epoch: 30, Time: 1h0m5s, Training loss: 0.1601044990224254\n",
        "# Training accuracy: 95.35, Validation accuracy: 85.79    "
      ],
      "metadata": {
        "id": "d4HPmk4NzcpI"
      },
      "execution_count": null,
      "outputs": []
    },
    {
      "cell_type": "markdown",
      "metadata": {
        "id": "AhU4qG86u9Ht"
      },
      "source": [
        "# Mokymo ir testavimo funkcijos"
      ]
    },
    {
      "cell_type": "code",
      "execution_count": 21,
      "metadata": {
        "id": "rQIwZYRqw8Ra"
      },
      "outputs": [],
      "source": [
        "import torch.nn as nn\n",
        "import torch.nn.functional as F\n",
        "\n",
        "from datetime import datetime"
      ]
    },
    {
      "cell_type": "code",
      "execution_count": 22,
      "metadata": {
        "id": "k0FWb8DpK8_s"
      },
      "outputs": [],
      "source": [
        "def train_one_epoch(model, loader, loss_func, optimizer):\n",
        "  loss_acum = []\n",
        "  classes = model.num_classes\n",
        "\n",
        "  model.train()\n",
        "  \n",
        "  for data in loader:\n",
        "    images = data[0].to(device)\n",
        "    labels = torch.nn.functional.one_hot(data[1], classes).float().to(device)\n",
        "\n",
        "    pred = model(images)\n",
        "    loss = loss_func(pred, labels)\n",
        "    loss_acum = np.append(loss_acum, loss.item())\n",
        "\n",
        "    loss.backward()\n",
        "    optimizer.step()\n",
        "    optimizer.zero_grad()\n",
        "\n",
        "  return np.mean(loss_acum)"
      ]
    },
    {
      "cell_type": "code",
      "execution_count": 23,
      "metadata": {
        "id": "mfn-eYbPPUEZ"
      },
      "outputs": [],
      "source": [
        "def train_all_epochs(model, loader, epoch_count = 15, lr = 1e-3):\n",
        "  loss_fn = torch.nn.CrossEntropyLoss()\n",
        "  optimizer = torch.optim.Adam(model.parameters(), lr = lr)\n",
        "\n",
        "  start_time = datetime.now()\n",
        "\n",
        "  train_accuracy_acum = []\n",
        "  valid_accuracy_acum = []\n",
        "\n",
        "  for epoch in range(epoch_count):\n",
        "    loss_avr = train_one_epoch(model, loader, loss_fn, optimizer)\n",
        "\n",
        "    # evaluation\n",
        "    train_accuracy = evaluate_while_training(model, loader_train)\n",
        "    train_accuracy_acum.append(train_accuracy)\n",
        "    valid_accuracy = evaluate_while_training(model, loader_test)\n",
        "    valid_accuracy_acum.append(valid_accuracy)\n",
        "\n",
        "    current_time = datetime.now()\n",
        "    elapsed = seconds_to_time((current_time - start_time).total_seconds())\n",
        "    print(f'Epoch: {epoch}, Time: {elapsed}, Training loss: {loss_avr}')\n",
        "    print(f'  Training accuracy: {np.round(train_accuracy * 100, 2)}, Validation accuracy: {np.round(valid_accuracy * 100, 2)}')\n",
        "\n",
        "  return train_accuracy_acum, valid_accuracy_acum"
      ]
    },
    {
      "cell_type": "code",
      "execution_count": 24,
      "metadata": {
        "id": "suW0T9vYQPiz"
      },
      "outputs": [],
      "source": [
        "def evaluate(model, loader):\n",
        "  model.eval()\n",
        "\n",
        "  ground_truth = []\n",
        "  predictions = []\n",
        "\n",
        "  for data in loader:\n",
        "    images = data[0].to(device)\n",
        "    labels = data[1]\n",
        "\n",
        "    with torch.no_grad():\n",
        "      output = model(images)\n",
        "      \n",
        "    pred_label = torch.argmax(output, axis = 1)\n",
        "    predictions = np.append(predictions, pred_label.cpu().detach())\n",
        "    ground_truth = np.append(ground_truth, labels)\n",
        "\n",
        "  return predictions, ground_truth "
      ]
    },
    {
      "cell_type": "code",
      "execution_count": 25,
      "metadata": {
        "id": "UROoMMOAmExu"
      },
      "outputs": [],
      "source": [
        "def evaluate_while_training(model, loader):\n",
        "  predictions, ground_truth = evaluate(model, loader)\n",
        "  correct_predictions = np.sum(predictions == ground_truth)\n",
        "  total_predictions = ground_truth.size\n",
        "  accuracy = correct_predictions / total_predictions\n",
        "  \n",
        "  return accuracy"
      ]
    },
    {
      "cell_type": "markdown",
      "metadata": {
        "id": "FREhbEuySjAt"
      },
      "source": [
        "# Confusion matrix"
      ]
    },
    {
      "cell_type": "code",
      "execution_count": 26,
      "metadata": {
        "id": "cnHYmBuFSm1h"
      },
      "outputs": [],
      "source": [
        "def create_confusion_matrix(predictions, ground_truth):\n",
        "  matrix = {}\n",
        "  matrix['00'] = np.sum(np.bitwise_and(ground_truth == 0, predictions == 0))\n",
        "  matrix['01'] = np.sum(np.bitwise_and(ground_truth == 0, predictions == 1))\n",
        "  matrix['02'] = np.sum(np.bitwise_and(ground_truth == 0, predictions == 2))\n",
        "  matrix['10'] = np.sum(np.bitwise_and(ground_truth == 1, predictions == 0))\n",
        "  matrix['11'] = np.sum(np.bitwise_and(ground_truth == 1, predictions == 1))\n",
        "  matrix['12'] = np.sum(np.bitwise_and(ground_truth == 1, predictions == 2))\n",
        "  matrix['20'] = np.sum(np.bitwise_and(ground_truth == 2, predictions == 0))\n",
        "  matrix['21'] = np.sum(np.bitwise_and(ground_truth == 2, predictions == 1))\n",
        "  matrix['22'] = np.sum(np.bitwise_and(ground_truth == 2, predictions == 2))\n",
        "\n",
        "  return matrix"
      ]
    },
    {
      "cell_type": "code",
      "execution_count": 27,
      "metadata": {
        "colab": {
          "base_uri": "https://localhost:8080/"
        },
        "id": "qhrM4aMRUB5L",
        "outputId": "27c3c3d5-3ed2-4098-8185-7d5117af7329"
      },
      "outputs": [
        {
          "output_type": "stream",
          "name": "stdout",
          "text": [
            "Looking in indexes: https://pypi.org/simple, https://us-python.pkg.dev/colab-wheels/public/simple/\n",
            "Requirement already satisfied: tabulate in /usr/local/lib/python3.9/dist-packages (0.8.10)\n"
          ]
        }
      ],
      "source": [
        "pip install tabulate"
      ]
    },
    {
      "cell_type": "code",
      "execution_count": 28,
      "metadata": {
        "id": "SmKb7_bFVSFN"
      },
      "outputs": [],
      "source": [
        "from tabulate import tabulate"
      ]
    },
    {
      "cell_type": "code",
      "execution_count": 29,
      "metadata": {
        "id": "CyBnCQRprTZI"
      },
      "outputs": [],
      "source": [
        "def print_class_matrix(matrix):\n",
        "\n",
        "  data = [['0', matrix['TN'], matrix['FP']], \n",
        "          ['1', matrix['FN'], matrix['TP']]]\n",
        "\n",
        "  print(tabulate(data, headers = ['True/Pred', '0', '1'], tablefmt = 'fancy_grid'))"
      ]
    },
    {
      "cell_type": "code",
      "execution_count": 30,
      "metadata": {
        "id": "uAAnTEGfT5rm"
      },
      "outputs": [],
      "source": [
        "def print_confusion_matrix(matrix):\n",
        "  data = [['Deer', matrix['00'], matrix['01'], matrix['02']], \n",
        "         ['Car', matrix['10'], matrix['11'], matrix['12']], \n",
        "         ['Helicopter', matrix['20'], matrix['21'], matrix['22']]]\n",
        "\n",
        "  print(tabulate(data, headers = ['True/Pred', 'Deer', 'Car', 'Helicopter'], tablefmt = 'fancy_grid'))"
      ]
    },
    {
      "cell_type": "markdown",
      "metadata": {
        "id": "LTsIa-ajXvNG"
      },
      "source": [
        "# Metrikų skaičiavimas"
      ]
    },
    {
      "cell_type": "code",
      "execution_count": 31,
      "metadata": {
        "id": "TVw_YJxDZEte"
      },
      "outputs": [],
      "source": [
        "def calculate_confusion_matrix_by_class(ground_truth, predictions, class_idx):\n",
        "  matrix = {}\n",
        "  matrix['TP'] = np.sum(np.bitwise_and(ground_truth == class_idx, predictions == class_idx))\n",
        "  matrix['TN'] = np.sum(np.bitwise_and(ground_truth == predictions, predictions != class_idx)) # groud true lygu prediction bet nelygu klasei\n",
        "  matrix['FP'] = np.sum(np.bitwise_and(ground_truth != class_idx, predictions == class_idx))\n",
        "  matrix['FN'] = np.sum(np.bitwise_and(ground_truth == class_idx, predictions != class_idx))\n",
        "\n",
        "  return matrix"
      ]
    },
    {
      "cell_type": "code",
      "execution_count": 32,
      "metadata": {
        "id": "b8qbiQq5X6ed"
      },
      "outputs": [],
      "source": [
        "def calculate_metrics(matrix):\n",
        "  TP = matrix['TP']\n",
        "  TN = matrix['TN']\n",
        "  FP = matrix['FP']\n",
        "  FN = matrix['FN']\n",
        "\n",
        "  metrics = {}\n",
        "  metrics['accuracy'] = (TP + TN) / (TP + FP + TN + FN)\n",
        "  metrics['recall'] = TP / (TP + FN)\n",
        "  metrics['precision'] = TP / (TP + FP)\n",
        "  metrics['f1'] = 2 * (metrics['recall'] * metrics['precision']) / (metrics['recall'] + metrics['precision'])\n",
        "\n",
        "  return metrics"
      ]
    },
    {
      "cell_type": "markdown",
      "metadata": {
        "id": "1928Anp4R9Rt"
      },
      "source": [
        "# Veikimas ir skaičiavimai"
      ]
    },
    {
      "cell_type": "code",
      "execution_count": 34,
      "metadata": {
        "id": "cFXNslsGsgAa"
      },
      "outputs": [],
      "source": [
        "dataset_train = MyDataset(image_paths_train, transforms_train)\n",
        "dataset_test = MyDataset(image_paths_test, transforms_test)"
      ]
    },
    {
      "cell_type": "code",
      "execution_count": 35,
      "metadata": {
        "id": "ue2eaWu_R-w6"
      },
      "outputs": [],
      "source": [
        "loader_train = DataLoader(dataset_train, batch_size = batch_size, shuffle=True, num_workers = num_workers)\n",
        "loader_test = DataLoader(dataset_test, batch_size = batch_size, shuffle=False, num_workers = num_workers)"
      ]
    },
    {
      "cell_type": "code",
      "execution_count": 36,
      "metadata": {
        "id": "FitDUQBNKrB9",
        "colab": {
          "base_uri": "https://localhost:8080/",
          "height": 633
        },
        "outputId": "8f3ed779-6c37-4954-d25c-bdc5620b2ce7"
      },
      "outputs": [
        {
          "output_type": "stream",
          "name": "stdout",
          "text": [
            "Parameter count: 67,862,727\n",
            "Epoch: 0, Time: 2m7s, Training loss: 0.7788318612089205\n",
            "  Training accuracy: 77.95, Validation accuracy: 76.56\n",
            "Epoch: 1, Time: 4m9s, Training loss: 0.5776749422301107\n",
            "  Training accuracy: 78.2, Validation accuracy: 80.8\n",
            "Epoch: 2, Time: 6m10s, Training loss: 0.5148737595152499\n",
            "  Training accuracy: 83.01, Validation accuracy: 80.8\n",
            "Epoch: 3, Time: 8m12s, Training loss: 0.4814926912146273\n",
            "  Training accuracy: 77.67, Validation accuracy: 82.29\n",
            "Epoch: 4, Time: 10m14s, Training loss: 0.4416010108086007\n",
            "  Training accuracy: 85.38, Validation accuracy: 84.54\n",
            "Epoch: 5, Time: 12m16s, Training loss: 0.42132431196410264\n",
            "  Training accuracy: 85.92, Validation accuracy: 84.04\n",
            "Epoch: 6, Time: 14m19s, Training loss: 0.40166354541717775\n",
            "  Training accuracy: 85.85, Validation accuracy: 82.54\n",
            "Epoch: 7, Time: 16m21s, Training loss: 0.3762625096671617\n",
            "  Training accuracy: 85.95, Validation accuracy: 78.05\n",
            "Epoch: 8, Time: 18m25s, Training loss: 0.3544962070140969\n",
            "  Training accuracy: 85.51, Validation accuracy: 77.56\n",
            "Epoch: 9, Time: 20m27s, Training loss: 0.33862113491145535\n",
            "  Training accuracy: 83.82, Validation accuracy: 80.55\n"
          ]
        },
        {
          "output_type": "display_data",
          "data": {
            "text/plain": [
              "<Figure size 432x288 with 1 Axes>"
            ],
            "image/png": "[encoded data removed]"
          },
          "metadata": {
            "needs_background": "light"
          }
        }
      ],
      "source": [
        "model = MyModel3(dataset_train[0][0].shape, 3).to(device)\n",
        "print(f'Parameter count: {sum(p.numel() for p in model.parameters() if p.requires_grad):,}')\n",
        "\n",
        "train_acc, valid_acc = train_all_epochs(model, loader_train, epoch_count = 10, lr = 1e-3)\n",
        "plot_accuracy(train_acc, valid_acc)"
      ]
    },
    {
      "cell_type": "code",
      "source": [
        "model1 = MyModel1(dataset_train[0][0].shape, 3).to(device)\n",
        "print(f'Parameter count: {sum(p.numel() for p in model1.parameters() if p.requires_grad):,}')\n",
        "\n",
        "train_acc1, valid_acc1 = train_all_epochs(model1, loader_train, epoch_count = 30, lr = 1e-3)\n",
        "plot_accuracy(train_acc1, valid_acc1)"
      ],
      "metadata": {
        "colab": {
          "base_uri": "https://localhost:8080/",
          "height": 1000
        },
        "id": "yqtjDhOQM7wb",
        "outputId": "c339ad9e-e844-4d0b-b405-8733feba4544"
      },
      "execution_count": 65,
      "outputs": [
        {
          "output_type": "stream",
          "name": "stdout",
          "text": [
            "Parameter count: 14,775,043\n",
            "Epoch: 0, Time: 2m3s, Training loss: 0.7351398890587821\n",
            "  Training accuracy: 77.83, Validation accuracy: 76.81\n",
            "Epoch: 1, Time: 4m4s, Training loss: 0.5817321541149225\n",
            "  Training accuracy: 75.39, Validation accuracy: 76.06\n",
            "Epoch: 2, Time: 6m6s, Training loss: 0.5135177257493954\n",
            "  Training accuracy: 83.35, Validation accuracy: 80.55\n",
            "Epoch: 3, Time: 8m8s, Training loss: 0.48958098284195906\n",
            "  Training accuracy: 83.26, Validation accuracy: 81.8\n",
            "Epoch: 4, Time: 10m10s, Training loss: 0.4547984316685603\n",
            "  Training accuracy: 85.23, Validation accuracy: 82.79\n",
            "Epoch: 5, Time: 12m12s, Training loss: 0.4342363477865262\n",
            "  Training accuracy: 83.67, Validation accuracy: 83.79\n",
            "Epoch: 6, Time: 14m14s, Training loss: 0.4265951639161774\n",
            "  Training accuracy: 83.07, Validation accuracy: 77.56\n",
            "Epoch: 7, Time: 16m17s, Training loss: 0.4190088932527535\n",
            "  Training accuracy: 87.54, Validation accuracy: 84.54\n",
            "Epoch: 8, Time: 18m20s, Training loss: 0.3862730506714897\n",
            "  Training accuracy: 85.88, Validation accuracy: 82.79\n",
            "Epoch: 9, Time: 20m22s, Training loss: 0.37329349889239266\n",
            "  Training accuracy: 88.13, Validation accuracy: 84.54\n",
            "Epoch: 10, Time: 22m24s, Training loss: 0.35634085969693624\n",
            "  Training accuracy: 88.54, Validation accuracy: 85.54\n",
            "Epoch: 11, Time: 24m25s, Training loss: 0.3108271957370476\n",
            "  Training accuracy: 87.73, Validation accuracy: 82.79\n",
            "Epoch: 12, Time: 26m27s, Training loss: 0.3066382531391744\n",
            "  Training accuracy: 87.85, Validation accuracy: 83.29\n",
            "Epoch: 13, Time: 28m27s, Training loss: 0.29422324339845285\n",
            "  Training accuracy: 90.19, Validation accuracy: 85.04\n",
            "Epoch: 14, Time: 30m29s, Training loss: 0.29027869327188427\n",
            "  Training accuracy: 90.38, Validation accuracy: 86.03\n",
            "Epoch: 15, Time: 32m29s, Training loss: 0.25822963676790694\n",
            "  Training accuracy: 91.29, Validation accuracy: 85.29\n",
            "Epoch: 16, Time: 34m31s, Training loss: 0.2564134865035465\n",
            "  Training accuracy: 90.47, Validation accuracy: 82.04\n",
            "Epoch: 17, Time: 36m33s, Training loss: 0.23490324217955866\n",
            "  Training accuracy: 92.1, Validation accuracy: 80.8\n",
            "Epoch: 18, Time: 38m36s, Training loss: 0.2095073518616643\n",
            "  Training accuracy: 94.28, Validation accuracy: 83.29\n",
            "Epoch: 19, Time: 40m37s, Training loss: 0.1916310003870607\n",
            "  Training accuracy: 91.97, Validation accuracy: 83.04\n",
            "Epoch: 20, Time: 42m39s, Training loss: 0.1956140368754642\n",
            "  Training accuracy: 94.07, Validation accuracy: 84.04\n",
            "Epoch: 21, Time: 44m42s, Training loss: 0.17180882399410602\n",
            "  Training accuracy: 95.88, Validation accuracy: 84.54\n",
            "Epoch: 22, Time: 46m44s, Training loss: 0.15986409674682797\n",
            "  Training accuracy: 95.07, Validation accuracy: 84.79\n",
            "Epoch: 23, Time: 48m48s, Training loss: 0.14752036196860804\n",
            "  Training accuracy: 95.0, Validation accuracy: 85.54\n",
            "Epoch: 24, Time: 50m51s, Training loss: 0.14778376674274937\n",
            "  Training accuracy: 96.63, Validation accuracy: 84.54\n",
            "Epoch: 25, Time: 52m54s, Training loss: 0.1263205302179564\n",
            "  Training accuracy: 95.47, Validation accuracy: 81.8\n",
            "Epoch: 26, Time: 54m57s, Training loss: 0.11731112151654595\n",
            "  Training accuracy: 96.19, Validation accuracy: 83.04\n",
            "Epoch: 27, Time: 57m2s, Training loss: 0.11411290312876485\n",
            "  Training accuracy: 92.22, Validation accuracy: 79.55\n",
            "Epoch: 28, Time: 59m3s, Training loss: 0.12386815978065874\n",
            "  Training accuracy: 97.1, Validation accuracy: 86.03\n",
            "Epoch: 29, Time: 1h1m7s, Training loss: 0.11033193116144055\n",
            "  Training accuracy: 97.6, Validation accuracy: 84.54\n"
          ]
        },
        {
          "output_type": "display_data",
          "data": {
            "text/plain": [
              "<Figure size 432x288 with 1 Axes>"
            ],
            "image/png": "[encoded data removed]"
          },
          "metadata": {
            "needs_background": "light"
          }
        }
      ]
    },
    {
      "cell_type": "code",
      "execution_count": 66,
      "metadata": {
        "id": "5Gf3JIEmSUES"
      },
      "outputs": [],
      "source": [
        "predictions, ground_truth = evaluate(model1, loader_test)"
      ]
    },
    {
      "cell_type": "code",
      "execution_count": 67,
      "metadata": {
        "colab": {
          "base_uri": "https://localhost:8080/"
        },
        "id": "jowak-G7H-T0",
        "outputId": "d1a30dc1-dce8-4fe2-bd80-fddfb0eb939b"
      },
      "outputs": [
        {
          "output_type": "stream",
          "name": "stdout",
          "text": [
            "0.8453865336658354\n"
          ]
        }
      ],
      "source": [
        "correct_predictions = np.sum(predictions == ground_truth)\n",
        "total_predictions = ground_truth.size\n",
        "accuracy = correct_predictions / total_predictions\n",
        "print(accuracy)"
      ]
    },
    {
      "cell_type": "code",
      "execution_count": 68,
      "metadata": {
        "id": "QJi6V5PrZq3U"
      },
      "outputs": [],
      "source": [
        "matrix_deer = calculate_confusion_matrix_by_class(ground_truth, predictions, class_to_idx['deer'])\n",
        "matrix_car = calculate_confusion_matrix_by_class(ground_truth, predictions, class_to_idx['car'])\n",
        "matrix_helicopter = calculate_confusion_matrix_by_class(ground_truth, predictions, class_to_idx['helicopter'])\n",
        "\n",
        "matrix_all = {}\n",
        "matrix_all['TP'] = matrix_deer['TP'] + matrix_car['TP'] + matrix_helicopter['TP']\n",
        "matrix_all['TN'] = matrix_deer['TN'] + matrix_car['TN'] + matrix_helicopter['TN']\n",
        "matrix_all['FP'] = matrix_deer['FP'] + matrix_car['FP'] + matrix_helicopter['FP']\n",
        "matrix_all['FN'] = matrix_deer['FN'] + matrix_car['FN'] + matrix_helicopter['FN']\n",
        "\n",
        "metrics_deer = calculate_metrics(matrix_deer)\n",
        "metrics_car = calculate_metrics(matrix_car)\n",
        "metrics_helicopter = calculate_metrics(matrix_helicopter)\n",
        "metrics_all = calculate_metrics(matrix_all)"
      ]
    },
    {
      "cell_type": "code",
      "execution_count": 69,
      "metadata": {
        "colab": {
          "base_uri": "https://localhost:8080/"
        },
        "id": "QCcoW4zaXVCz",
        "outputId": "120c585b-fdca-4c8a-d5fd-a8cd2ffb55e0"
      },
      "outputs": [
        {
          "output_type": "stream",
          "name": "stdout",
          "text": [
            "╒═════════════╤════════╤═══════╤══════════════╕\n",
            "│ True/Pred   │   Deer │   Car │   Helicopter │\n",
            "╞═════════════╪════════╪═══════╪══════════════╡\n",
            "│ Deer        │     76 │    11 │            7 │\n",
            "├─────────────┼────────┼───────┼──────────────┤\n",
            "│ Car         │      3 │   184 │           13 │\n",
            "├─────────────┼────────┼───────┼──────────────┤\n",
            "│ Helicopter  │      6 │    22 │           79 │\n",
            "╘═════════════╧════════╧═══════╧══════════════╛\n"
          ]
        }
      ],
      "source": [
        "matrix = create_confusion_matrix(predictions, ground_truth)\n",
        "print_confusion_matrix(matrix)"
      ]
    },
    {
      "cell_type": "code",
      "execution_count": 70,
      "metadata": {
        "colab": {
          "base_uri": "https://localhost:8080/"
        },
        "id": "v5D29X0-skrG",
        "outputId": "08f2476d-f559-4f6f-822b-31c26b5a725b"
      },
      "outputs": [
        {
          "output_type": "stream",
          "name": "stdout",
          "text": [
            "Deer matrix\n",
            "╒═════════════╤═════╤═════╕\n",
            "│   True/Pred │   0 │   1 │\n",
            "╞═════════════╪═════╪═════╡\n",
            "│           0 │ 263 │   9 │\n",
            "├─────────────┼─────┼─────┤\n",
            "│           1 │  18 │  76 │\n",
            "╘═════════════╧═════╧═════╛\n",
            "Car matrix\n",
            "╒═════════════╤═════╤═════╕\n",
            "│   True/Pred │   0 │   1 │\n",
            "╞═════════════╪═════╪═════╡\n",
            "│           0 │ 155 │  33 │\n",
            "├─────────────┼─────┼─────┤\n",
            "│           1 │  16 │ 184 │\n",
            "╘═════════════╧═════╧═════╛\n",
            "Helicopter matrix\n",
            "╒═════════════╤═════╤═════╕\n",
            "│   True/Pred │   0 │   1 │\n",
            "╞═════════════╪═════╪═════╡\n",
            "│           0 │ 260 │  20 │\n",
            "├─────────────┼─────┼─────┤\n",
            "│           1 │  28 │  79 │\n",
            "╘═════════════╧═════╧═════╛\n",
            "All matrix\n",
            "╒═════════════╤═════╤═════╕\n",
            "│   True/Pred │   0 │   1 │\n",
            "╞═════════════╪═════╪═════╡\n",
            "│           0 │ 678 │  62 │\n",
            "├─────────────┼─────┼─────┤\n",
            "│           1 │  62 │ 339 │\n",
            "╘═════════════╧═════╧═════╛\n"
          ]
        }
      ],
      "source": [
        "print('Deer matrix')\n",
        "print_class_matrix(matrix_deer)\n",
        "print('Car matrix')\n",
        "print_class_matrix(matrix_car)\n",
        "print('Helicopter matrix')\n",
        "print_class_matrix(matrix_helicopter)\n",
        "print('All matrix')\n",
        "print_class_matrix(matrix_all)"
      ]
    },
    {
      "cell_type": "code",
      "execution_count": 71,
      "metadata": {
        "colab": {
          "base_uri": "https://localhost:8080/"
        },
        "id": "7RSPvXALuGjk",
        "outputId": "0323543f-506c-4a40-b096-274e2e09e8a7"
      },
      "outputs": [
        {
          "output_type": "stream",
          "name": "stdout",
          "text": [
            "Class  deer  metrics:\n",
            "  accuracy :  0.9262295081967213\n",
            "  recall :  0.8085106382978723\n",
            "  precision :  0.8941176470588236\n",
            "  f1 :  0.8491620111731844\n",
            "\n",
            "Class  car  metrics:\n",
            "  accuracy :  0.8737113402061856\n",
            "  recall :  0.92\n",
            "  precision :  0.847926267281106\n",
            "  f1 :  0.882494004796163\n",
            "\n",
            "Class  helicopter  metrics:\n",
            "  accuracy :  0.875968992248062\n",
            "  recall :  0.7383177570093458\n",
            "  precision :  0.797979797979798\n",
            "  f1 :  0.766990291262136\n",
            "\n",
            "All   metrics:\n",
            "  accuracy :  0.8913234005258545\n",
            "  recall :  0.8453865336658354\n",
            "  precision :  0.8453865336658354\n",
            "  f1 :  0.8453865336658354\n"
          ]
        }
      ],
      "source": [
        "print_metrics(metrics_deer, class_to_idx['deer'])\n",
        "print_metrics(metrics_car, class_to_idx['car'])\n",
        "print_metrics(metrics_helicopter, class_to_idx['helicopter'])\n",
        "print_all_metrics(metrics_all)"
      ]
    },
    {
      "cell_type": "code",
      "source": [
        "print(get_image_label(model, 'https://media.npr.org/assets/img/2021/11/10/white-tailed-deer-1-ac07593f0b38e66ffac9178fb0c787ca75baea3d.jpg'))"
      ],
      "metadata": {
        "id": "o7dDz-Yh46n4",
        "colab": {
          "base_uri": "https://localhost:8080/"
        },
        "outputId": "1b36e6bd-3cb4-4f22-f3ef-d5620868242b"
      },
      "execution_count": 73,
      "outputs": [
        {
          "output_type": "stream",
          "name": "stdout",
          "text": [
            "deer\n"
          ]
        }
      ]
    },
    {
      "cell_type": "markdown",
      "metadata": {
        "id": "U0ON-TCIw-f_"
      },
      "source": [
        "# Papildomos funkcijos"
      ]
    },
    {
      "cell_type": "code",
      "source": [
        "def get_image_label(model, url):\n",
        "  model.eval()\n",
        "  image = Image.open(requests.get(url, stream=True).raw)\n",
        "  # response = requests.get(url)\n",
        "  # image = Image.open(BytesIO(response.content))\n",
        "  image = transforms_test(image)\n",
        "  output = model(image.unsqueeze(0).to(device))\n",
        "  pred_label = torch.argmax(output, axis = 1)\n",
        "\n",
        "  return idx_to_class[pred_label.item()]"
      ],
      "metadata": {
        "id": "7Rwrz0QY42oS"
      },
      "execution_count": 59,
      "outputs": []
    },
    {
      "cell_type": "code",
      "execution_count": 16,
      "metadata": {
        "colab": {
          "base_uri": "https://localhost:8080/"
        },
        "id": "2b5pgF61rzDQ",
        "outputId": "c096e3fa-ce19-4d78-cdae-681e6f032e12"
      },
      "outputs": [
        {
          "output_type": "stream",
          "name": "stdout",
          "text": [
            "{0: 'deer', 1: 'car', 2: 'helicopter'}\n",
            "{'deer': 0, 'car': 1, 'helicopter': 2}\n"
          ]
        }
      ],
      "source": [
        "# Pagalbinės funkcijos verčiant pavadinimą (label) į indeksą\n",
        "idx_to_class = {i:j for i, j in enumerate(image_classes)}\n",
        "class_to_idx = {value:key for key, value in idx_to_class.items()}\n",
        "print(idx_to_class)\n",
        "print(class_to_idx)"
      ]
    },
    {
      "cell_type": "code",
      "execution_count": 17,
      "metadata": {
        "id": "haHoqKqqR-tx"
      },
      "outputs": [],
      "source": [
        "def seconds_to_time(seconds):\n",
        "    s = int(seconds) % 60\n",
        "    m = int(seconds) // 60\n",
        "    if m < 1:\n",
        "        return f'{s}s'\n",
        "    h = m // 60\n",
        "    m = m % 60\n",
        "    if h < 1:\n",
        "        return f'{m}m{s}s'\n",
        "    return f'{h}h{m}m{s}s'"
      ]
    },
    {
      "cell_type": "code",
      "execution_count": 18,
      "metadata": {
        "id": "ixbalswClhcD"
      },
      "outputs": [],
      "source": [
        "def plot_accuracy(train_accuracy, valid_accuracy):\n",
        "  plt.clf()\n",
        "  plt.plot(train_accuracy, 'b', label = 'Training accuracy')\n",
        "  plt.plot(valid_accuracy, 'r', label = 'Validation accuracy')\n",
        "  plt.ylim(0.0, 1.0)\n",
        "  plt.legend()\n",
        "  plt.show()"
      ]
    },
    {
      "cell_type": "code",
      "execution_count": 19,
      "metadata": {
        "id": "0EHcVvX9t-j3"
      },
      "outputs": [],
      "source": [
        "def print_metrics(metrics, class_idx):\n",
        "  print('Class ', idx_to_class[class_idx], ' metrics:')\n",
        "  print('  accuracy : ', metrics['accuracy'])\n",
        "  print('  recall : ', metrics['recall'])\n",
        "  print('  precision : ', metrics['precision'])\n",
        "  print('  f1 : ', metrics['f1'])\n",
        "  print()"
      ]
    },
    {
      "cell_type": "code",
      "execution_count": 20,
      "metadata": {
        "id": "Wnr41SEuuCEg"
      },
      "outputs": [],
      "source": [
        "def print_all_metrics(metrics):\n",
        "  print('All ', ' metrics:')\n",
        "  print('  accuracy : ', metrics['accuracy'])\n",
        "  print('  recall : ', metrics['recall'])\n",
        "  print('  precision : ', metrics['precision'])\n",
        "  print('  f1 : ', metrics['f1'])"
      ]
    }
  ],
  "metadata": {
    "accelerator": "GPU",
    "colab": {
      "collapsed_sections": [
        "qgrUeICX7NXI",
        "qrhkwQlkrF19",
        "avDY-MSsrNqg",
        "IEB7rs7orfdq",
        "Zd7XGY1VsUHW",
        "DbZUHmkAroC6",
        "F9hctB4WsvP7",
        "Itihx33ZxSu8",
        "AhU4qG86u9Ht",
        "FREhbEuySjAt",
        "LTsIa-ajXvNG",
        "1928Anp4R9Rt",
        "U0ON-TCIw-f_"
      ],
      "provenance": []
    },
    "gpuClass": "standard",
    "kernelspec": {
      "display_name": "Python 3",
      "name": "python3"
    },
    "language_info": {
      "name": "python"
    }
  },
  "nbformat": 4,
  "nbformat_minor": 0
}